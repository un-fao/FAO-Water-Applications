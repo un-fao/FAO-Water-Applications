{
 "cells": [
  {
   "cell_type": "code",
   "execution_count": null,
   "metadata": {},
   "outputs": [],
   "source": [
    "!pip install pywapor --quiet"
   ]
  },
  {
   "cell_type": "markdown",
   "metadata": {},
   "source": [
    "### Passwords\n",
    "\n",
    "Below is an overview of the accounts needed to download different products. Whenever `pywapor` needs a username, password or access token, it will ask for it and store them for a next time. In this notebook we set up all the passwords, so its not necessary anymore to enter them during runtime. "
   ]
  },
  {
   "cell_type": "markdown",
   "metadata": {},
   "source": [
    "First we import some functions and define a folder in which to save our log file."
   ]
  },
  {
   "cell_type": "code",
   "execution_count": 3,
   "metadata": {},
   "outputs": [],
   "source": [
    "from pywapor.general.logger import adjust_logger\n",
    "from pywapor.collect.accounts import setup\n",
    "\n",
    "folder = r\"/Users/hmcoerver/Local/passwords_notebook\"\n",
    "adjust_logger(True, folder, \"INFO\")"
   ]
  },
  {
   "attachments": {},
   "cell_type": "markdown",
   "metadata": {},
   "source": [
    "#### NASA\n",
    "\n",
    "> Used for `VIIRSL1`, `MODIS`, `SRTM`, `CHIRPS` and `MERRA2` data.\n",
    "\n",
    "- First create an account at https://urs.earthdata.nasa.gov.\n",
    "\n",
    "- Make sure to accept the terms of use: \"Applications\" > \"Authorized Apps\" > \"Approve More Applications\" \n",
    "    * NASA GESDISC DATA ARCHIVE \n",
    "    * LP DAAC OPeNDAP"
   ]
  },
  {
   "cell_type": "code",
   "execution_count": 4,
   "metadata": {},
   "outputs": [
    {
     "name": "stderr",
     "output_type": "stream",
     "text": [
      "--> Testing NASA un/pw.\n",
      "--> NASA un/pw working.\n"
     ]
    }
   ],
   "source": [
    "setup(\"NASA\")"
   ]
  },
  {
   "attachments": {},
   "cell_type": "markdown",
   "metadata": {},
   "source": [
    "#### TERRA\n",
    "> Used for `TERRA` (VITO:PROVA-V).\n",
    "\n",
    "- Create an account at https://viewer.terrascope.be.\n"
   ]
  },
  {
   "cell_type": "code",
   "execution_count": 5,
   "metadata": {},
   "outputs": [
    {
     "name": "stderr",
     "output_type": "stream",
     "text": [
      "--> Testing TERRA un/pw.\n",
      "--> TERRA un/pw working.\n"
     ]
    }
   ],
   "source": [
    "setup(\"TERRA\")"
   ]
  },
  {
   "attachments": {},
   "cell_type": "markdown",
   "metadata": {},
   "source": [
    "#### ECMWF\n",
    "\n",
    "> Used for `ERA5`.\n",
    "\n",
    "- Create an account at https://cds.climate.copernicus.eu.\n",
    "    * On your profile page, scroll to the \"API key\" section.\n",
    "    * Accept conditions when running `setup(\"ECMWF\")` for the first time."
   ]
  },
  {
   "cell_type": "code",
   "execution_count": 6,
   "metadata": {},
   "outputs": [
    {
     "name": "stderr",
     "output_type": "stream",
     "text": [
      "--> Testing ECMWF un/pw.\n",
      "--> ECMWF un/pw working.\n"
     ]
    }
   ],
   "source": [
    "setup(\"ECMWF\")"
   ]
  },
  {
   "attachments": {},
   "cell_type": "markdown",
   "metadata": {},
   "source": [
    "#### EARTHEXPLORER\n",
    "\n",
    "> Used for `LANDSAT`.\n",
    "\n",
    "- Create an account at https://earthexplorer.usgs.gov."
   ]
  },
  {
   "cell_type": "code",
   "execution_count": 7,
   "metadata": {},
   "outputs": [
    {
     "name": "stderr",
     "output_type": "stream",
     "text": [
      "--> Testing EARTHEXPLORER un/pw.\n",
      "--> EARTHEXPLORER un/pw working.\n"
     ]
    }
   ],
   "source": [
    "setup(\"EARTHEXPLORER\")"
   ]
  },
  {
   "attachments": {},
   "cell_type": "markdown",
   "metadata": {},
   "source": [
    "#### COPERNICUS_DATA_SPACE\n",
    "\n",
    "> Used for `SENTINEL2` and `SENTINEL3`.\n",
    "\n",
    "- Create an account at https://dataspace.copernicus.eu."
   ]
  },
  {
   "cell_type": "code",
   "execution_count": 8,
   "metadata": {},
   "outputs": [
    {
     "name": "stderr",
     "output_type": "stream",
     "text": [
      "--> Testing COPERNICUS_DATA_SPACE un/pw.\n",
      "--> COPERNICUS_DATA_SPACE un/pw working.\n"
     ]
    }
   ],
   "source": [
    "setup(\"COPERNICUS_DATA_SPACE\")"
   ]
  },
  {
   "cell_type": "markdown",
   "metadata": {},
   "source": [
    "#### No password required\n",
    "\n",
    "> `COPERNICUS` (GLO30, GLO90), `GEOS5` (inst3_2d_asm_Nx), `GLOBCOVER` (2009_V2.3_Global) and `STATICS` (WaPOR2, WaPOR3)."
   ]
  }
 ],
 "metadata": {
  "kernelspec": {
   "display_name": "pywapor",
   "language": "python",
   "name": "python3"
  },
  "language_info": {
   "codemirror_mode": {
    "name": "ipython",
    "version": 3
   },
   "file_extension": ".py",
   "mimetype": "text/x-python",
   "name": "python",
   "nbconvert_exporter": "python",
   "pygments_lexer": "ipython3",
   "version": "3.11.5"
  },
  "orig_nbformat": 4,
  "vscode": {
   "interpreter": {
    "hash": "30267a9963ef4e891f35edf7c2db672f8b38daceac54cc246d7b09d3d93c63b2"
   }
  }
 },
 "nbformat": 4,
 "nbformat_minor": 2
}
