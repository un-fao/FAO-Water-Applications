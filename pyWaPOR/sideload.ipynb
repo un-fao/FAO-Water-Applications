{
 "cells": [
  {
   "cell_type": "markdown",
   "metadata": {},
   "source": [
    "## Sideloading\n",
    "\n",
    "`pywapor` can download data from different products, if however you wish to use another dataset that is ofcourse possible. Below are shown two methods on how to ingest your own data."
   ]
  },
  {
   "attachments": {},
   "cell_type": "markdown",
   "metadata": {},
   "source": [
    "### Method 1"
   ]
  },
  {
   "attachments": {},
   "cell_type": "markdown",
   "metadata": {},
   "source": [
    "Start by loading a default configuration for `pre_et_look` and `pre_se_root`."
   ]
  },
  {
   "cell_type": "code",
   "execution_count": 1,
   "metadata": {},
   "outputs": [
    {
     "name": "stderr",
     "output_type": "stream",
     "text": [
      "OMP: Info #276: omp_set_nested routine deprecated, please use omp_set_max_active_levels instead.\n"
     ]
    }
   ],
   "source": [
    "import pywapor\n",
    "import xarray as xr\n",
    "from functools import partial\n",
    "import pywapor.se_root as se_root\n",
    "\n",
    "et_look_config = pywapor.general.levels.pre_et_look_levels(level = \"level_1\")\n",
    "se_root_config = pywapor.general.levels.pre_se_root_levels(level = \"level_1\")"
   ]
  },
  {
   "attachments": {},
   "cell_type": "markdown",
   "metadata": {},
   "source": [
    "Create a list of the meteorological variables."
   ]
  },
  {
   "cell_type": "code",
   "execution_count": 2,
   "metadata": {},
   "outputs": [],
   "source": [
    "meteo_vars = ['t_air', 't_air_max', 't_air_min', 'u2m', 'v2m', 'qv', 'p_air', 'p_air_0', 'wv']"
   ]
  },
  {
   "attachments": {},
   "cell_type": "markdown",
   "metadata": {},
   "source": [
    "So for each of these we need to adjust the `\"products\"` part. For example it looks like this right now for `\"t_air\"`."
   ]
  },
  {
   "cell_type": "code",
   "execution_count": 3,
   "metadata": {},
   "outputs": [
    {
     "data": {
      "text/plain": [
       "{'products': [{'source': 'GEOS5',\n",
       "   'product_name': 'inst3_2d_asm_Nx',\n",
       "   'enhancers': 'default'}],\n",
       " 'composite_type': 'mean',\n",
       " 'temporal_interp': 'linear',\n",
       " 'spatial_interp': 'bilinear'}"
      ]
     },
     "execution_count": 3,
     "metadata": {},
     "output_type": "execute_result"
    }
   ],
   "source": [
    "et_look_config[\"t_air\"]"
   ]
  },
  {
   "attachments": {},
   "cell_type": "markdown",
   "metadata": {},
   "source": [
    "We are going to overwrite the list under the `\"products\"` key. The value of `\"source\"` needs to be a function that returns a `xr.Dataset` which contains a variable called `\"t_air\"`. For the product name we can choose a new name."
   ]
  },
  {
   "attachments": {},
   "cell_type": "markdown",
   "metadata": {},
   "source": [
    "So we define a function that can return the dataset."
   ]
  },
  {
   "cell_type": "code",
   "execution_count": 4,
   "metadata": {},
   "outputs": [],
   "source": [
    "def meteo_sideload(**kwargs):\n",
    "    fh = r\"path/to/my/netcdf_file/meteo_data.nc\"\n",
    "    ds = xr.open_dataset(fh)\n",
    "    return ds"
   ]
  },
  {
   "attachments": {},
   "cell_type": "markdown",
   "metadata": {},
   "source": [
    "And then we put it inside the configuration for each variable."
   ]
  },
  {
   "cell_type": "code",
   "execution_count": 5,
   "metadata": {},
   "outputs": [],
   "source": [
    "meteo_config = [{\"source\": meteo_sideload, \"product_name\": \"SAWS_data\", \"enhancers\": []}]\n",
    "for var in meteo_vars:\n",
    "    et_look_config[var][\"products\"] = meteo_config\n",
    "    se_root_config[var][\"products\"] = meteo_config"
   ]
  },
  {
   "attachments": {},
   "cell_type": "markdown",
   "metadata": {},
   "source": [
    "Now the configuration contains our new product called `\"SAWS_data\"`."
   ]
  },
  {
   "cell_type": "code",
   "execution_count": 6,
   "metadata": {},
   "outputs": [
    {
     "data": {
      "text/plain": [
       "{'products': [{'source': <function __main__.meteo_sideload(**kwargs)>,\n",
       "   'product_name': 'SAWS_data',\n",
       "   'enhancers': []}],\n",
       " 'composite_type': 'mean',\n",
       " 'temporal_interp': 'linear',\n",
       " 'spatial_interp': 'bilinear'}"
      ]
     },
     "execution_count": 6,
     "metadata": {},
     "output_type": "execute_result"
    }
   ],
   "source": [
    "et_look_config[\"t_air\"]"
   ]
  },
  {
   "attachments": {},
   "cell_type": "markdown",
   "metadata": {},
   "source": [
    "Right now the configuration for `\"se_root\"` inside `et_look_config` still contains the original `level_1` configuration."
   ]
  },
  {
   "cell_type": "code",
   "execution_count": 7,
   "metadata": {},
   "outputs": [
    {
     "data": {
      "text/plain": [
       "{'products': [{'source': functools.partial(<function se_root at 0x157ef2520>, bin_length=1, sources='level_1'),\n",
       "   'product_name': 'v2',\n",
       "   'enhancers': 'default'}],\n",
       " 'composite_type': 'max',\n",
       " 'temporal_interp': None,\n",
       " 'spatial_interp': 'bilinear'}"
      ]
     },
     "execution_count": 7,
     "metadata": {},
     "output_type": "execute_result"
    }
   ],
   "source": [
    "et_look_config[\"se_root\"]"
   ]
  },
  {
   "attachments": {},
   "cell_type": "markdown",
   "metadata": {},
   "source": [
    "We can adjust it like this."
   ]
  },
  {
   "cell_type": "code",
   "execution_count": 8,
   "metadata": {},
   "outputs": [],
   "source": [
    "se_root_dler = partial(se_root.se_root, sources = se_root_config)\n",
    "et_look_config[\"se_root\"][\"products\"][0][\"source\"] = se_root_dler"
   ]
  },
  {
   "attachments": {},
   "cell_type": "markdown",
   "metadata": {},
   "source": [
    "Now the configuration for `\"se_root\"` has been updated too."
   ]
  },
  {
   "cell_type": "code",
   "execution_count": 9,
   "metadata": {},
   "outputs": [
    {
     "data": {
      "text/plain": [
       "{'products': [{'source': functools.partial(<function se_root at 0x157ef2520>, sources={'ndvi': {'products': [{'source': 'MODIS', 'product_name': 'MOD13Q1.061', 'enhancers': 'default', 'is_example': True}, {'source': 'MODIS', 'product_name': 'MYD13Q1.061', 'enhancers': 'default'}], 'temporal_interp': 'linear', 'spatial_interp': 'nearest'}, 'lst': {'products': [{'source': 'MODIS', 'product_name': 'MOD11A1.061', 'enhancers': 'default'}, {'source': 'MODIS', 'product_name': 'MYD11A1.061', 'enhancers': 'default'}], 'temporal_interp': None, 'spatial_interp': 'nearest'}, 't_air': {'products': [{'source': <function meteo_sideload at 0x16203d580>, 'product_name': 'SAWS_data', 'enhancers': []}], 'temporal_interp': 'linear', 'spatial_interp': 'bilinear'}, 't_air_max': {'products': [{'source': <function meteo_sideload at 0x16203d580>, 'product_name': 'SAWS_data', 'enhancers': []}], 'temporal_interp': 'linear', 'spatial_interp': 'bilinear'}, 't_air_min': {'products': [{'source': <function meteo_sideload at 0x16203d580>, 'product_name': 'SAWS_data', 'enhancers': []}], 'temporal_interp': 'linear', 'spatial_interp': 'bilinear'}, 'u2m': {'products': [{'source': <function meteo_sideload at 0x16203d580>, 'product_name': 'SAWS_data', 'enhancers': []}], 'temporal_interp': 'linear', 'spatial_interp': 'bilinear'}, 'v2m': {'products': [{'source': <function meteo_sideload at 0x16203d580>, 'product_name': 'SAWS_data', 'enhancers': []}], 'temporal_interp': 'linear', 'spatial_interp': 'bilinear'}, 'qv': {'products': [{'source': <function meteo_sideload at 0x16203d580>, 'product_name': 'SAWS_data', 'enhancers': []}], 'temporal_interp': 'linear', 'spatial_interp': 'bilinear'}, 'wv': {'products': [{'source': <function meteo_sideload at 0x16203d580>, 'product_name': 'SAWS_data', 'enhancers': []}], 'temporal_interp': 'linear', 'spatial_interp': 'bilinear'}, 'p_air': {'products': [{'source': <function meteo_sideload at 0x16203d580>, 'product_name': 'SAWS_data', 'enhancers': []}], 'temporal_interp': 'linear', 'spatial_interp': 'bilinear'}, 'p_air_0': {'products': [{'source': <function meteo_sideload at 0x16203d580>, 'product_name': 'SAWS_data', 'enhancers': []}], 'temporal_interp': 'linear', 'spatial_interp': 'bilinear'}, 'r0_bare': {'products': [{'source': 'STATICS', 'product_name': 'WaPOR2', 'enhancers': 'default'}], 'temporal_interp': None, 'spatial_interp': 'bilinear'}, 'r0_full': {'products': [{'source': 'STATICS', 'product_name': 'WaPOR2', 'enhancers': 'default'}], 'temporal_interp': None, 'spatial_interp': 'bilinear'}}),\n",
       "   'product_name': 'v2',\n",
       "   'enhancers': 'default'}],\n",
       " 'composite_type': 'max',\n",
       " 'temporal_interp': None,\n",
       " 'spatial_interp': 'bilinear'}"
      ]
     },
     "execution_count": 9,
     "metadata": {},
     "output_type": "execute_result"
    }
   ],
   "source": [
    "et_look_config[\"se_root\"]"
   ]
  },
  {
   "attachments": {},
   "cell_type": "markdown",
   "metadata": {},
   "source": [
    "Finally, we can start `pre_et_look` as usual."
   ]
  },
  {
   "cell_type": "code",
   "execution_count": null,
   "metadata": {},
   "outputs": [],
   "source": [
    "folder = r\"\"\n",
    "latlim = lonlim = timelim = [] # You need to define these ofcourse.\n",
    "input_ds = pywapor.pre_et_look.main(folder, latlim, lonlim, timelim, sources = et_look_config)"
   ]
  },
  {
   "attachments": {},
   "cell_type": "markdown",
   "metadata": {},
   "source": [
    "### Method 2"
   ]
  },
  {
   "attachments": {},
   "cell_type": "markdown",
   "metadata": {},
   "source": [
    "Another way is to adjust `input_ds` before calling `pywapor.et_look.main`. Which would like something like this."
   ]
  },
  {
   "attachments": {},
   "cell_type": "markdown",
   "metadata": {},
   "source": [
    "First we remove the meteo variables from the configuration. This is optional, but it avoids downloading  data that we aren't going to use anyway."
   ]
  },
  {
   "cell_type": "code",
   "execution_count": 10,
   "metadata": {},
   "outputs": [],
   "source": [
    "et_look_config = pywapor.general.levels.pre_et_look_levels(level = \"level_1\")\n",
    "\n",
    "meteo_vars = ['t_air', 't_air_max', 't_air_min', 'u2m', 'v2m', 'qv', 'p_air', 'p_air_0', 'wv']\n",
    "\n",
    "for var in meteo_vars:\n",
    "    _ = et_look_config.pop(var, None)"
   ]
  },
  {
   "attachments": {},
   "cell_type": "markdown",
   "metadata": {},
   "source": [
    "Then we run `pywapor.pre_et_look.main` as usual."
   ]
  },
  {
   "cell_type": "code",
   "execution_count": null,
   "metadata": {},
   "outputs": [],
   "source": [
    "folder = r\"\"\n",
    "latlim = lonlim = timelim = []\n",
    "input_ds = pywapor.pre_et_look.main(folder, latlim, lonlim, timelim, sources = et_look_config)"
   ]
  },
  {
   "attachments": {},
   "cell_type": "markdown",
   "metadata": {},
   "source": [
    "Next we add the data we want to include before our call to `pywapor.et_look.main`. Check the documentation of [`xarray`](https://docs.xarray.dev/en/stable/#) to learn more on how to do this."
   ]
  },
  {
   "cell_type": "code",
   "execution_count": null,
   "metadata": {},
   "outputs": [],
   "source": [
    "input_ds[\"t_air\"] = xr.DataArray(...)\n",
    "input_ds[\"u2m\"] = xr.DataArray(...)\n",
    "# ...\n",
    "# etc."
   ]
  },
  {
   "attachments": {},
   "cell_type": "markdown",
   "metadata": {},
   "source": [
    "Then you run `et_look`."
   ]
  },
  {
   "cell_type": "code",
   "execution_count": null,
   "metadata": {},
   "outputs": [],
   "source": [
    "output_ds = pywapor.et_look.main(input_ds)"
   ]
  }
 ],
 "metadata": {
  "kernelspec": {
   "display_name": "pywapor",
   "language": "python",
   "name": "python3"
  },
  "language_info": {
   "codemirror_mode": {
    "name": "ipython",
    "version": 3
   },
   "file_extension": ".py",
   "mimetype": "text/x-python",
   "name": "python",
   "nbconvert_exporter": "python",
   "pygments_lexer": "ipython3",
   "version": "3.11.5"
  },
  "orig_nbformat": 4
 },
 "nbformat": 4,
 "nbformat_minor": 2
}
