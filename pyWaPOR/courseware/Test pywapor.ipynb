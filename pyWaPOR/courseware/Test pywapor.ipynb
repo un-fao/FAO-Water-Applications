{
 "cells": [
  {
   "cell_type": "markdown",
   "id": "769d3a33",
   "metadata": {},
   "source": [
    "[![](https://colab.research.google.com/assets/colab-badge.svg)](https://colab.research.google.com/github/wateraccounting/FAO-Water-Applications/blob/main/pyWaPOR/courseware/Test%20pywapor.ipynb?target=\\\"_blank\\\")"
   ]
  },
  {
   "cell_type": "code",
   "execution_count": null,
   "id": "85afa3cd",
   "metadata": {},
   "outputs": [],
   "source": [
    "# If pywapor module is not found, install using pip\n",
    "!pip install pywapor"
   ]
  },
  {
   "cell_type": "code",
   "execution_count": null,
   "id": "1fb59acd-0503-40ab-80e5-ccb70f9936cd",
   "metadata": {},
   "outputs": [],
   "source": [
    "import pywapor"
   ]
  },
  {
   "cell_type": "code",
   "execution_count": null,
   "id": "6f68eb65-b18c-423d-b50e-9fd54b26ce6c",
   "metadata": {},
   "outputs": [],
   "source": [
    "project_folder = r\"Test_case\" #Path to folder\n",
    "bb = [33.1479429498060583, 14.2657100971198449, 33.2874918465625242, 14.3487734799492763] # [xmin, ymin, xmax, ymax] #Wad_Helal\n",
    "period = [\"2023-03-01\", \"2023-03-02\"] \n",
    "# Set up a project.\n",
    "project = pywapor.Project(project_folder, bb, period)"
   ]
  },
  {
   "cell_type": "code",
   "execution_count": null,
   "id": "136550da-7516-4ed5-afa7-5341b0e996f5",
   "metadata": {},
   "outputs": [],
   "source": [
    "summary = {\n",
    "            '_ENHANCE_': {\"lst\": [\"pywapor.enhancers.dms.thermal_sharpener.sharpen\"],},\n",
    "            '_EXAMPLE_': 'SENTINEL2.S2MSI2A_R20m',\n",
    "            '_WHITTAKER_': {'SENTINEL2.S2MSI2A_R20m':{'method':'linear'},\t\t\t\t\t\t\t\t\n",
    "                            'MODIS.MYD11A1.061':{'method':'linear'},\t\n",
    "                            'MODIS.MOD11A1.061':{'method':'linear'},\t\t\t\t\t\t\t\n",
    "\t\t\t\t},\n",
    "            'elevation': {'SRTM.30M'},\n",
    "            'meteorological': {'GEOS5.inst3_2d_asm_Nx'},\n",
    "            'optical': {'SENTINEL2.S2MSI2A_R20m'},\n",
    "            'precipitation': {'CHIRPS.P05'},\n",
    "            'soil moisture': {'FILE:{folder}{sep}se_root_out*.nc'},\n",
    "            'solar radiation': {'MERRA2.M2T1NXRAD.5.12.4'},\n",
    "            'statics': {'STATICS.WaPOR3'},\n",
    "            'thermal': {'MODIS.MYD11A1.061','MODIS.MOD11A1.061'},            \n",
    "            }\n",
    "project.load_configuration(summary = summary)"
   ]
  },
  {
   "cell_type": "code",
   "execution_count": null,
   "id": "7b036545-4497-4f66-ab59-546d6c6a0769",
   "metadata": {},
   "outputs": [],
   "source": [
    "project.set_passwords()"
   ]
  },
  {
   "cell_type": "code",
   "execution_count": null,
   "id": "e5a85c34-c799-492b-a39b-59013487fea0",
   "metadata": {},
   "outputs": [],
   "source": [
    "datasets = project.download_data()"
   ]
  },
  {
   "cell_type": "code",
   "execution_count": null,
   "id": "e3099bd4",
   "metadata": {},
   "outputs": [],
   "source": [
    "se_root_in = project.run_pre_se_root()"
   ]
  },
  {
   "cell_type": "code",
   "execution_count": null,
   "id": "262aea81-c8d3-4425-8aec-4329d8ac6bf0",
   "metadata": {},
   "outputs": [],
   "source": [
    "se_root = project.run_se_root()"
   ]
  },
  {
   "cell_type": "code",
   "execution_count": null,
   "id": "a675da7c",
   "metadata": {},
   "outputs": [],
   "source": [
    "et_look_in = project.run_pre_et_look()"
   ]
  },
  {
   "cell_type": "code",
   "execution_count": null,
   "id": "34c2b0ca-84c7-46d5-bac8-d4b995651ad2",
   "metadata": {},
   "outputs": [],
   "source": [
    "et_look = project.run_et_look()"
   ]
  }
 ],
 "metadata": {
  "kernelspec": {
   "display_name": "pywapor_env",
   "language": "python",
   "name": "pywapor_env"
  },
  "language_info": {
   "codemirror_mode": {
    "name": "ipython",
    "version": 3
   },
   "file_extension": ".py",
   "mimetype": "text/x-python",
   "name": "python",
   "nbconvert_exporter": "python",
   "pygments_lexer": "ipython3",
   "version": "3.10.8"
  }
 },
 "nbformat": 4,
 "nbformat_minor": 5
}
